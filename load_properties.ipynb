{
 "cells": [
  {
   "cell_type": "code",
   "execution_count": 2,
   "id": "ecf2d2fa",
   "metadata": {},
   "outputs": [],
   "source": [
    "import pandas as pd\n",
    "import networkx as nx\n",
    "import matplotlib.pyplot as plt\n",
    "import numpy as np"
   ]
  },
  {
   "cell_type": "code",
   "execution_count": 3,
   "id": "0f3d2606",
   "metadata": {},
   "outputs": [],
   "source": [
    "def is_flake_of_stone(flake_id, stone_id) -> bool:\n",
    "    return flake_id[:-2] == stone_id\n",
    "\n",
    "def z_score_normalize(data):\n",
    "    # normalize 1D data array\n",
    "    mean = np.mean(data)\n",
    "    std_dev = np.std(data)\n",
    "    normalized_data = (data - mean) / std_dev\n",
    "    return normalized_data"
   ]
  },
  {
   "cell_type": "code",
   "execution_count": 4,
   "id": "f5a4588e",
   "metadata": {},
   "outputs": [],
   "source": [
    "LETTERS = ['a', 'b', 'c', 'd', 'e', 'f',]\n",
    "\n",
    "def create_graph(dataset, data_collection, stone_id):\n",
    "    # create Graph for stone_id with node values from data_collection\n",
    "    G = nx.DiGraph()\n",
    "    data_index = 0\n",
    "    for index, row in dataset.iterrows():\n",
    "        if is_flake_of_stone(row['Sample_ID'], stone_id):\n",
    "            weight = data_collection[stone_id][\"weight\"][data_index]\n",
    "            volume = data_collection[stone_id][\"volume\"][data_index]\n",
    "            surface = data_collection[stone_id][\"surface\"][data_index]\n",
    "            scar_count = data_collection[stone_id][\"scar_count\"][data_index]\n",
    "            data_index += 1\n",
    "            G.add_node(row['Sample_ID'], weight= weight, volume=volume, surface=surface, scar_count=scar_count)\n",
    "    for index, row in dataset.iterrows():\n",
    "        if is_flake_of_stone(row['Sample_ID'], stone_id):\n",
    "            for l in LETTERS:\n",
    "                if row[f'Subsequent_removal_{l}'] == row[f'Subsequent_removal_{l}']:\n",
    "                    G.add_edge(row['Sample_ID'], row[f'Subsequent_removal_{l}'])\n",
    "    return G"
   ]
  },
  {
   "cell_type": "code",
   "execution_count": 5,
   "id": "41fc5a67",
   "metadata": {},
   "outputs": [],
   "source": [
    "def read_and_normalize_property_data(dataset, stone_ids):\n",
    "    # collect continuous data and normalize\n",
    "    data_collection = {}\n",
    "    for id in stone_ids:\n",
    "        data_collection[id] = {\"weight\": [],\n",
    "                                \"volume\": [],\n",
    "                                \"surface\": [],\n",
    "                                \"scar_count\": []}\n",
    "        \n",
    "    for index, row in dataset.iterrows():\n",
    "        id = row['Sample_ID'][:-2]\n",
    "        if id not in stone_ids:\n",
    "            continue\n",
    "        data_collection[id][\"surface\"].append(row['Surface_Area_mm^2']) \n",
    "        data_collection[id][\"volume\"].append(row['Volume_mm^3'])\n",
    "        data_collection[id][\"weight\"].append(row['Weight_g'])\n",
    "        data_collection[id][\"scar_count\"].append(row['Dorsal_scar_count'])\n",
    "        \n",
    "    for stone_id, data in data_collection.items():\n",
    "        for prop, values in data.items():\n",
    "            values = np.array(values)\n",
    "            #Find indices that you need to replace\n",
    "            inds = np.where(np.isnan(values))\n",
    "            values[inds] = np.nanmedian(values)\n",
    "            # normalize the data (after replacing nans)\n",
    "            values = z_score_normalize(values)  \n",
    "            data_collection[stone_id][prop] = values\n",
    "    return data_collection"
   ]
  },
  {
   "cell_type": "code",
   "execution_count": 6,
   "id": "31b689a6",
   "metadata": {},
   "outputs": [
    {
     "name": "stderr",
     "output_type": "stream",
     "text": [
      "/home/jp/anaconda3/lib/python3.9/site-packages/numpy/lib/nanfunctions.py:1119: RuntimeWarning: All-NaN slice encountered\n",
      "  r, k = function_base._ureduce(a, func=_nanmedian, axis=axis, out=out,\n"
     ]
    }
   ],
   "source": [
    "stone_ids = ['BT.1.4-25.','BT.1.A.','BT.1.C.','BT.1.F.','BT.2.65.','BT.2.UUU.']\n",
    "\n",
    "filename = 'Melton_sequence_data_sample.xlsx'\n",
    "\n",
    "dataset = pd.read_excel(filename, sheet_name='SAMPLE_DATA')\n",
    "\n",
    "data_collection = read_and_normalize_property_data(dataset, stone_ids)\n",
    "\n",
    "graphs = {}\n",
    "for stone_id in stone_ids:\n",
    "    G = create_graph(dataset, data_collection, stone_id)\n",
    "    graphs[stone_id] = G"
   ]
  },
  {
   "cell_type": "code",
   "execution_count": 7,
   "id": "27cad4ce",
   "metadata": {},
   "outputs": [
    {
     "name": "stdout",
     "output_type": "stream",
     "text": [
      "{'weight': -1.2180483097769272, 'volume': -1.1911143764992376, 'surface': -1.1744540461012496, 'scar_count': -1.5811388300841895}\n",
      "{'weight': -0.2074651269483694, 'volume': -0.22075766124706597, 'surface': -0.22886632197670045, 'scar_count': 0.0}\n"
     ]
    }
   ],
   "source": [
    "print(graphs['BT.1.4-25.'].nodes['BT.1.4-25.01'])\n",
    "print(graphs['BT.1.4-25.'].nodes['BT.1.4-25.02'])"
   ]
  },
  {
   "cell_type": "code",
   "execution_count": 8,
   "id": "b79fd722",
   "metadata": {},
   "outputs": [
    {
     "name": "stdout",
     "output_type": "stream",
     "text": [
      "{'weight': -1.2180483097769272, 'volume': -1.1911143764992376, 'surface': -1.1744540461012496, 'scar_count': -1.5811388300841895}\n",
      "{'weight': -0.2074651269483694, 'volume': -0.22075766124706597, 'surface': -0.22886632197670045, 'scar_count': 0.0}\n",
      "{'weight': -0.2074651269483694, 'volume': -0.22075766124706597, 'surface': -0.22886632197670045, 'scar_count': 0.0}\n",
      "{'weight': -0.2074651269483694, 'volume': -0.22075766124706597, 'surface': -0.22886632197670045, 'scar_count': 1.5811388300841895}\n",
      "{'weight': 1.8404436906220363, 'volume': 1.8533873602404356, 'surface': 1.8610530120313542, 'scar_count': 0.0}\n",
      "{'weight': nan, 'volume': 1.4425292243013406, 'surface': 1.5030294779510316, 'scar_count': 0.9622504486493764}\n",
      "{'weight': nan, 'volume': 1.3883970537372545, 'surface': 1.6902966502244718, 'scar_count': -1.8970080273373418}\n",
      "{'weight': nan, 'volume': -0.12076136507100467, 'surface': 0.32575092805665395, 'scar_count': -0.4673787893439827}\n",
      "{'weight': nan, 'volume': 0.196897871754267, 'surface': 0.5567246245748567, 'scar_count': -1.8970080273373418}\n",
      "{'weight': nan, 'volume': -0.5002813792304052, 'surface': -0.638642231311848, 'scar_count': -0.4673787893439827}\n",
      "{'weight': nan, 'volume': -0.5176911778531951, 'surface': -0.9164969334966961, 'scar_count': -1.5396007178390019}\n",
      "{'weight': nan, 'volume': 0.2742186135232174, 'surface': 1.6777894198590773, 'scar_count': 0.6048431391510366}\n",
      "{'weight': nan, 'volume': -0.34690982385578345, 'surface': -0.15892531980649527, 'scar_count': 0.24743582965269684}\n",
      "{'weight': nan, 'volume': -0.1759242639050411, 'surface': -0.14262112876047442, 'scar_count': 1.677065067646056}\n",
      "{'weight': nan, 'volume': -0.7090461537000852, 'surface': -1.297954916817369, 'scar_count': -0.8247860988423225}\n",
      "{'weight': nan, 'volume': 0.09295252492361843, 'surface': 0.4819204070239841, 'scar_count': 0.6048431391510366}\n",
      "{'weight': nan, 'volume': -0.3850662436197175, 'surface': -0.47017893498223995, 'scar_count': -0.4673787893439827}\n",
      "{'weight': nan, 'volume': -0.36587336620932004, 'surface': -0.0890467690862285, 'scar_count': 0.24743582965269684}\n",
      "{'weight': nan, 'volume': -0.21371038764796352, 'surface': -0.23968430773663682, 'scar_count': 2.3918796866427354}\n",
      "{'weight': nan, 'volume': -0.5184661112973948, 'surface': -0.4409093120051865, 'scar_count': -0.8247860988423225}\n",
      "{'weight': nan, 'volume': -0.34690982385578345, 'surface': -0.15892531980649527, 'scar_count': 0.24743582965269684}\n",
      "{'weight': nan, 'volume': -0.43714787165882546, 'surface': -0.5892704206226956, 'scar_count': -1.1821934083406622}\n",
      "{'weight': nan, 'volume': -0.6223518724686036, 'surface': -1.0127701735656909, 'scar_count': 0.9622504486493764}\n",
      "{'weight': nan, 'volume': -0.34690982385578345, 'surface': -0.15892531980649527, 'scar_count': 0.24743582965269684}\n",
      "{'weight': nan, 'volume': -0.34690982385578345, 'surface': -0.15892531980649527, 'scar_count': 0.24743582965269684}\n",
      "{'weight': nan, 'volume': -0.10684481891553024, 'surface': -0.09158944738029788, 'scar_count': 0.24743582965269684}\n",
      "{'weight': nan, 'volume': -0.5471764831315342, 'surface': -0.6652646894620993, 'scar_count': 0.24743582965269684}\n",
      "{'weight': nan, 'volume': -0.6404303176399593, 'surface': -1.0356597541354198, 'scar_count': 0.6048431391510366}\n",
      "{'weight': nan, 'volume': 0.2801369396349275, 'surface': 0.20240102421565642, 'scar_count': 0.6048431391510366}\n",
      "{'weight': nan, 'volume': -0.6589957095639377, 'surface': -1.2398658805411273, 'scar_count': -0.8247860988423225}\n",
      "{'weight': nan, 'volume': 4.2322745894610225, 'surface': 3.0677436472242574, 'scar_count': 0.24743582965269684}\n",
      "{'weight': -0.8881734911104977, 'volume': -0.9450672113577485, 'surface': -1.3339357640152358, 'scar_count': -0.33161066891587165}\n",
      "{'weight': 0.30666243024149886, 'volume': 0.34653481011208276, 'surface': 0.40655413187923384, 'scar_count': 1.243540008434517}\n",
      "{'weight': -0.7633899530018669, 'volume': -0.835598787640694, 'surface': -1.1222905190374675, 'scar_count': -0.33161066891587165}\n",
      "{'weight': 0.47572399800157916, 'volume': 0.5005794210042025, 'surface': 1.09122365607379, 'scar_count': -0.33161066891587165}\n",
      "{'weight': -0.07372609721868201, 'volume': 0.021760899043180206, 'surface': 0.08248603988120433, 'scar_count': -0.33161066891587165}\n",
      "{'weight': -0.3346981204673774, 'volume': -0.24616551303671888, 'surface': 0.2791803342346211, 'scar_count': 0.4559646697593227}\n",
      "{'weight': 0.5917861060273486, 'volume': 0.56934024215644, 'surface': 0.8830450254531657, 'scar_count': 2.0311153471097114}\n",
      "{'weight': -0.4440514361217151, 'volume': -0.48805981371668317, 'surface': -0.5968031918102015, 'scar_count': -0.33161066891587165}\n",
      "{'weight': -0.7110613725046991, 'volume': -0.20181593987164284, 'surface': 0.0045718283258944425, 'scar_count': -0.33161066891587165}\n",
      "{'weight': -0.21796513320446476, 'volume': -0.20181593987164284, 'surface': 0.0045718283258944425, 'scar_count': -0.33161066891587165}\n",
      "{'weight': 2.202567154408114, 'volume': 2.2118721438164695, 'surface': 2.3270620379831386, 'scar_count': 2.818690685784906}\n",
      "{'weight': 0.12351239850141181, 'volume': -0.20181593987164284, 'surface': 0.0045718283258944425, 'scar_count': -0.33161066891587165}\n",
      "{'weight': -0.4406970399359992, 'volume': -0.20181593987164284, 'surface': 0.0045718283258944425, 'scar_count': -0.33161066891587165}\n",
      "{'weight': -0.032131584515805035, 'volume': -0.12395260991327856, 'surface': 0.0045718283258944425, 'scar_count': -0.33161066891587165}\n",
      "{'weight': -0.10123214594155223, 'volume': -0.20181593987164284, 'surface': -0.06714416715217013, 'scar_count': -1.119186007591066}\n",
      "{'weight': -0.947210863979097, 'volume': -1.0378491688273834, 'surface': -1.3417058868097265, 'scar_count': -1.119186007591066}\n",
      "{'weight': -0.870730630944775, 'volume': -0.9613643006411596, 'surface': -1.3206066027138308, 'scar_count': 0.4559646697593227}\n",
      "{'weight': -0.8224273258704664, 'volume': -0.912978288230072, 'surface': -1.1010303257483314, 'scar_count': -1.119186007591066}\n",
      "{'weight': 2.947243107637039, 'volume': 2.9100278765895755, 'surface': 1.791106090152337, 'scar_count': -0.33161066891587165}\n",
      "{'weight': 0.04008062412933821, 'volume': 0.09663464445632558, 'surface': 0.5924116854324314, 'scar_count': -0.6055300708194983}\n",
      "{'weight': 0.6286977063788766, 'volume': 0.7271455989104202, 'surface': 1.2878219569069425, 'scar_count': -0.30276503540974914}\n",
      "{'weight': 0.40004703939935926, 'volume': 0.4531012023506805, 'surface': 0.9573524177922864, 'scar_count': -0.30276503540974914}\n",
      "{'weight': -0.612466493472156, 'volume': -0.6225202352498579, 'surface': -0.8490424873521721, 'scar_count': -1.5138251770487459}\n",
      "{'weight': -0.48460642276824445, 'volume': -0.47145680911208, 'surface': -0.5920249975185518, 'scar_count': 0.30276503540974914}\n",
      "{'weight': -0.5128277897254141, 'volume': -0.48977437886779535, 'surface': -0.5786293588721844, 'scar_count': -0.6055300708194983}\n",
      "{'weight': -0.31355038223193044, 'volume': -0.3298273292373055, 'surface': -0.3854815677043558, 'scar_count': -0.30276503540974914}\n",
      "{'weight': -0.6262892038185248, 'volume': -0.6352408557940021, 'surface': -0.727691859305151, 'scar_count': -0.6055300708194983}\n",
      "{'weight': -0.2789936063660084, 'volume': -0.29382601960144666, 'surface': -0.31206242206644225, 'scar_count': -0.6055300708194983}\n",
      "{'weight': -0.6666054423287671, 'volume': -0.6752174229720433, 'surface': -0.9198671293179669, 'scar_count': 0.6055300708194983}\n",
      "{'weight': -0.3481071580978525, 'volume': -0.3658286388731644, 'surface': -0.45890071334226945, 'scar_count': 0.30276503540974914}\n",
      "{'weight': 1.4937689955557916, 'volume': 1.5234190288822005, 'surface': 2.4056310760731083, 'scar_count': 2.7248853186877424}\n",
      "{'weight': -0.25250007820213494, 'volume': -0.26592664225003343, 'surface': 0.08179251521680227, 'scar_count': -0.30276503540974914}\n",
      "{'weight': 0.40004703939935926, 'volume': 0.3626210550691484, 'surface': 0.7355891893512144, 'scar_count': 2.7248853186877424}\n",
      "{'weight': -0.7311114239451548, 'volume': -0.7425786731279651, 'surface': -1.292219600085856, 'scar_count': -0.9082951062292475}\n",
      "{'weight': -0.31355038223193044, 'volume': -0.3298273292373055, 'surface': -0.3854815677043558, 'scar_count': -0.30276503540974914}\n",
      "{'weight': -0.47135965868630775, 'volume': -0.47593504060999575, 'surface': -0.7428661583630224, 'scar_count': 0.30276503540974914}\n",
      "{'weight': -0.31355038223193044, 'volume': -0.3298273292373055, 'surface': -0.3854815677043558, 'scar_count': -0.30276503540974914}\n",
      "{'weight': -0.5882767503660106, 'volume': -0.6125899247610871, 'surface': -0.7892054771816029, 'scar_count': -0.6055300708194983}\n",
      "{'weight': -0.0820199839302529, 'volume': -0.09238738714513418, 'surface': 0.2659981629818523, 'scar_count': 0.9082951062292475}\n",
      "{'weight': -0.31355038223193044, 'volume': -0.3298273292373055, 'surface': -0.3854815677043558, 'scar_count': -0.30276503540974914}\n",
      "{'weight': 3.9467241357718232, 'volume': 3.8996698156450527, 'surface': 2.477839470468014, 'scar_count': -0.30276503540974914}\n",
      "{'weight': -0.42409601837082483, 'volume': -0.3660320692134309, 'surface': -0.13099740731374385, 'scar_count': -1.7008401285415224}\n",
      "{'weight': -0.35398987939054716, 'volume': -0.34194823319549067, 'surface': -0.27527347315950296, 'scar_count': -0.1889822365046136}\n",
      "{'weight': -0.35398987939054716, 'volume': -0.34194823319549067, 'surface': -0.27527347315950296, 'scar_count': -0.1889822365046136}\n",
      "{'weight': -0.35398987939054716, 'volume': -0.34194823319549067, 'surface': -0.27527347315950296, 'scar_count': -0.1889822365046136}\n",
      "{'weight': -0.35398987939054716, 'volume': -0.34194823319549067, 'surface': -0.27527347315950296, 'scar_count': -0.1889822365046136}\n",
      "{'weight': 1.3875942047510892, 'volume': 1.453183193585592, 'surface': 2.2722454380821793, 'scar_count': 2.456769074559977}\n",
      "{'weight': 0.3138633393163093, 'volume': 0.30767334176394384, 'surface': 0.8290873792016599, 'scar_count': 1.3228756555322951}\n",
      "{'weight': -0.35398987939054716, 'volume': -0.6964838625796044, 'surface': -0.9671245095570263, 'scar_count': -0.1889822365046136}\n",
      "{'weight': -0.35398987939054716, 'volume': -0.3178643971775505, 'surface': -0.4849368607387764, 'scar_count': 0.1889822365046136}\n",
      "{'weight': -0.35398987939054716, 'volume': -0.34194823319549067, 'surface': -0.27527347315950296, 'scar_count': -0.1889822365046136}\n",
      "{'weight': -0.4646837830436172, 'volume': -0.42646247147648775, 'surface': -0.41954953900526204, 'scar_count': -0.944911182523068}\n",
      "{'weight': -0.4388552055245675, 'volume': -0.3913293526943817, 'surface': -0.7016144767558202, 'scar_count': -0.944911182523068}\n",
      "{'weight': -0.35398987939054716, 'volume': -0.34194823319549067, 'surface': -0.27527347315950296, 'scar_count': -0.1889822365046136}\n",
      "{'weight': -0.1731898367571992, 'volume': -0.1454884261703353, 'surface': 0.10436562147557649, 'scar_count': 1.7008401285415224}\n",
      "{'weight': -0.7930756972143919, 'volume': -0.7498119978507449, 'surface': -1.317876874669601, 'scar_count': -0.5669467095138409}\n",
      "{'weight': 3.42436203196758, 'volume': 3.384305440985946, 'surface': 2.468042068237834, 'scar_count': -0.1889822365046136}\n",
      "{'weight': 1.1698122385645306, 'volume': 1.172666723985107, 'surface': 1.8126608229493628, 'scar_count': 4.189210309031278}\n",
      "{'weight': -0.2820421739042236, 'volume': -0.30386537525339186, 'surface': -0.25009957053723125, 'scar_count': -0.23059873260722616}\n",
      "{'weight': -0.2820421739042236, 'volume': -0.30386537525339186, 'surface': -0.25009957053723125, 'scar_count': -0.23059873260722616}\n",
      "{'weight': -0.2820421739042236, 'volume': -0.30386537525339186, 'surface': -0.25009957053723125, 'scar_count': -0.23059873260722616}\n",
      "{'weight': 2.093636108864067, 'volume': 2.125159136847424, 'surface': 3.0483527560690673, 'scar_count': 0.6533630757204747}\n",
      "{'weight': -0.2820421739042236, 'volume': -0.30386537525339186, 'surface': -0.25009957053723125, 'scar_count': -0.23059873260722616}\n",
      "{'weight': -0.2820421739042236, 'volume': -0.30386537525339186, 'surface': -0.25009957053723125, 'scar_count': -0.23059873260722616}\n",
      "{'weight': -0.2820421739042236, 'volume': -0.30386537525339186, 'surface': -0.25009957053723125, 'scar_count': -0.23059873260722616}\n",
      "{'weight': -0.2820421739042236, 'volume': -0.5123445547268057, 'surface': -0.9342453729166813, 'scar_count': -0.23059873260722616}\n",
      "{'weight': -0.9625128378127292, 'volume': -0.9114275785237351, 'surface': -1.1534918649083095, 'scar_count': -0.23059873260722616}\n",
      "{'weight': 0.4572005851326818, 'volume': 0.5124245618561017, 'surface': 1.0441353060735103, 'scar_count': -1.5565414450987773}\n",
      "{'weight': 0.018246499642444722, 'volume': 0.062004863609696016, 'surface': 0.12526712161611578, 'scar_count': 0.21138217155662425}\n",
      "{'weight': -0.955166325921679, 'volume': -0.901755637444031, 'surface': -1.3508312528870576, 'scar_count': -0.23059873260722616}\n",
      "{'weight': -0.7108948055442669, 'volume': -0.6575315626754457, 'surface': -0.925983345959289, 'scar_count': -0.23059873260722616}\n",
      "{'weight': -0.22418839276220504, 'volume': -0.18016477618013496, 'surface': 0.26298205505305045, 'scar_count': -0.23059873260722616}\n",
      "{'weight': -0.6172267789333795, 'volume': -0.5678304783327978, 'surface': -0.6091065448978518, 'scar_count': 1.095343979884325}\n",
      "{'weight': -0.2820421739042236, 'volume': -0.30386537525339186, 'surface': -0.25009957053723125, 'scar_count': -0.23059873260722616}\n",
      "{'weight': -0.44274712152094226, 'volume': -0.40041964841817224, 'surface': -0.25009957053723125, 'scar_count': -0.23059873260722616}\n",
      "{'weight': -0.2820421739042236, 'volume': -0.30386537525339186, 'surface': -0.25009957053723125, 'scar_count': -0.23059873260722616}\n",
      "{'weight': -0.33989595504624237, 'volume': -0.30386537525339186, 'surface': -0.35150076834785243, 'scar_count': -0.6725796367710766}\n",
      "{'weight': -0.2820421739042236, 'volume': -0.30386537525339186, 'surface': -0.25009957053723125, 'scar_count': -0.23059873260722616}\n",
      "{'weight': -0.2820421739042236, 'volume': -0.30386537525339186, 'surface': -0.25009957053723125, 'scar_count': -0.23059873260722616}\n",
      "{'weight': 3.6162006982841777, 'volume': 3.6017380777901056, 'surface': 1.782856364065471, 'scar_count': -0.23059873260722616}\n"
     ]
    }
   ],
   "source": [
    "for id, g in graphs.items():\n",
    "    for node in g.nodes:\n",
    "        print(g.nodes[node])"
   ]
  },
  {
   "cell_type": "code",
   "execution_count": 9,
   "id": "91072443",
   "metadata": {},
   "outputs": [],
   "source": [
    "def remove_undirected_edges(G):\n",
    "    rem = set()\n",
    "    for x, y in G.edges:\n",
    "        if (y,x) in G.edges:\n",
    "            rem.add((x,y))\n",
    "            rem.add((y,x))\n",
    "    for x,y in rem:\n",
    "        G.remove_edge(x,y)"
   ]
  },
  {
   "cell_type": "code",
   "execution_count": 10,
   "id": "fdc8f52b",
   "metadata": {},
   "outputs": [],
   "source": [
    "remove_undirected_edges(graphs['BT.1.4-25.'])"
   ]
  },
  {
   "cell_type": "code",
   "execution_count": 11,
   "id": "5cac8088",
   "metadata": {},
   "outputs": [
    {
     "data": {
      "image/png": "[encoded data removed]",
      "text/plain": [
       "<Figure size 1152x1152 with 1 Axes>"
      ]
     },
     "metadata": {},
     "output_type": "display_data"
    }
   ],
   "source": [
    "plt.figure(figsize=(16,16))\n",
    "nx.draw(graphs['BT.1.4-25.'], pos=nx.kamada_kawai_layout(graphs['BT.1.4-25.']), with_labels=True, font_weight='bold')\n",
    "plt.show()"
   ]
  },
  {
   "cell_type": "code",
   "execution_count": null,
   "id": "3dfce939",
   "metadata": {},
   "outputs": [],
   "source": []
  }
 ],
 "metadata": {
  "kernelspec": {
   "display_name": "Python 3 (ipykernel)",
   "language": "python",
   "name": "python3"
  },
  "language_info": {
   "codemirror_mode": {
    "name": "ipython",
    "version": 3
   },
   "file_extension": ".py",
   "mimetype": "text/x-python",
   "name": "python",
   "nbconvert_exporter": "python",
   "pygments_lexer": "ipython3",
   "version": "3.9.12"
  }
 },
 "nbformat": 4,
 "nbformat_minor": 5
}
